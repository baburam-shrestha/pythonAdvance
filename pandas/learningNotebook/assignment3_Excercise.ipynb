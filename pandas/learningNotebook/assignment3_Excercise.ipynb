{
 "cells": [
  {
   "cell_type": "code",
   "execution_count": null,
   "id": "5d804baf",
   "metadata": {},
   "outputs": [],
   "source": [
    "# Exercise 3:\n",
    "\n",
    "# Dataset: HR dataset https://docs.google.com/spreadsheets/d/1PW-b9PF0j_x6yTwgLFWdv5-mjm2egnyYmfDftW9H0Pg/edit?usp=sharing \n",
    "\n",
    "# Sheets:\n",
    "# \tEmployee\n",
    "# \tDepartment\n",
    "# \tLocations\n",
    "# \tJob_history\n",
    "# \tJobs\n",
    "\n",
    "\n",
    "# Tasks:\n",
    "# Count the NaN values of all the columns of locations file\n",
    "# Display the name, salary and department number for those employees whose first name ends with the letter 'm'\n",
    "# display the first name, last name, salary and department number for those employees whose first name ends with the letter 'd' or 'n' or 's' and also arrange the result in descending order by department id.\n",
    "# Find the employees who work either in department 70 or 90.\n",
    "# Display the first, last name, salary and department number for those employees who hold a letter n as a 3rd character in their first name. \n",
    "# Display the first name, job id, salary and department for those employees not working in the departments 50,30 and 80\n",
    "# Display the ID for those employees who did two or more jobs in the past.\n",
    "# Calculate minimum, maximum and mean salary from employees file\n",
    "# display the first and last name and date of joining of the employees who is either Sales Representative or Sales Man.\n",
    "# display the first and last name, and department number for all employees whose last name is \"McEwen\".\n",
    "# create and display a boolean series, where True for not null and False for null values or missing values in state_province column of locations file.\n",
    "# Compute the average salary earned by each department with department name\n",
    "# Compute the number of departments located in Seattle city.\n",
    "# What is the average salary of job ‘Finance Manager’\n",
    "# You are offered a position either as ‘Sales Representative’ or ‘Marketing Representative’. You want to join a position with a smaller number of employees. Which position will you join?\n"
   ]
  }
 ],
 "metadata": {
  "kernelspec": {
   "display_name": "Python 3 (ipykernel)",
   "language": "python",
   "name": "python3"
  },
  "language_info": {
   "codemirror_mode": {
    "name": "ipython",
    "version": 3
   },
   "file_extension": ".py",
   "mimetype": "text/x-python",
   "name": "python",
   "nbconvert_exporter": "python",
   "pygments_lexer": "ipython3",
   "version": "3.10.4"
  }
 },
 "nbformat": 4,
 "nbformat_minor": 5
}
