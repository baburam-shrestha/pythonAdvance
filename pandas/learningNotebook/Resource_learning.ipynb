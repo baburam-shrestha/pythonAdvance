{
 "cells": [
  {
   "cell_type": "code",
   "execution_count": 7,
   "id": "cf149bdf",
   "metadata": {},
   "outputs": [],
   "source": [
    "# Resources: \n",
    "# https://www.youtube.com/watch?v=CmorAWRsCAw&list=PLeo1K3hjS3uuASpe-1LjfG5f14Bnozjwy&index=1&ab_channel=codebasics\n",
    "import pandas as np\n"
   ]
  },
  {
   "cell_type": "code",
   "execution_count": 9,
   "id": "477496f4",
   "metadata": {},
   "outputs": [
    {
     "data": {
      "text/plain": [
       "0    baburam\n",
       "1     saurav\n",
       "2     shijal\n",
       "3    pallavi\n",
       "4    memosha\n",
       "5     akshya\n",
       "6     pradip\n",
       "7      pujan\n",
       "8      amrit\n",
       "dtype: object"
      ]
     },
     "execution_count": 9,
     "metadata": {},
     "output_type": "execute_result"
    }
   ],
   "source": [
    "# Intro to Series \n",
    "# (Install jupyter: https://www.youtube.com/watch?v=Yg9AkozItTU\n",
    "#  , creating series using python list, dictionary, attributes and methods in series object..) \n",
    "# ( https://www.geeksforgeeks.org/python-pandas-series/  )\n",
    "\n",
    "# creating series by using list\n",
    "names_list=['baburam','saurav','shijal','pallavi','memosha','akshya','pradip','pujan','amrit']\n",
    "pd.Series(names_list)"
   ]
  },
  {
   "cell_type": "code",
   "execution_count": 10,
   "id": "0b007af1",
   "metadata": {},
   "outputs": [
    {
     "data": {
      "text/plain": [
       "1    baburam\n",
       "2     saurav\n",
       "3     shijal\n",
       "4    pallavi\n",
       "5    memosha\n",
       "6     akshya\n",
       "7     pradip\n",
       "8      pujan\n",
       "9      amrit\n",
       "dtype: object"
      ]
     },
     "execution_count": 10,
     "metadata": {},
     "output_type": "execute_result"
    }
   ],
   "source": [
    "# creating series by using dictionary\n",
    "names_dict={1:'baburam',\n",
    "       2:'saurav',\n",
    "       3:'shijal',\n",
    "       4:'pallavi',\n",
    "       5:'memosha',\n",
    "       6:'akshya',\n",
    "       7:'pradip',\n",
    "       8:'pujan',\n",
    "       9:'amrit'}\n",
    "pd.Series(names_dict)"
   ]
  },
  {
   "cell_type": "code",
   "execution_count": 11,
   "id": "58a0563e",
   "metadata": {},
   "outputs": [
    {
     "data": {
      "text/plain": [
       "Name    [Braund, Mr. Owen Harris, Allen, Mr. William H...\n",
       "Age                                  [22, 35, 58, 38, 24]\n",
       "Sex                    [male, male, female, male, female]\n",
       "dtype: object"
      ]
     },
     "execution_count": 11,
     "metadata": {},
     "output_type": "execute_result"
    }
   ],
   "source": [
    "# creating series by using attributes\n",
    "names_attr=pd.Series({\n",
    "        \"Name\":[\"Braund, Mr. Owen Harris\",\"Allen, Mr. William Henry\",\"Bonnell, Miss. Elizabeth\",\"Baburam, Shrestha\",\"asda, shah\",],\n",
    "        \"Age\": [22, 35, 58,38,24],\n",
    "        \"Sex\": [\"male\", \"male\", \"female\",'male','female'],\n",
    "    })\n",
    "names_attr"
   ]
  },
  {
   "cell_type": "code",
   "execution_count": 15,
   "id": "f1c51a95",
   "metadata": {},
   "outputs": [
    {
     "data": {
      "text/plain": [
       "0     0\n",
       "1     5\n",
       "2    10\n",
       "3    15\n",
       "4    20\n",
       "5    25\n",
       "6    30\n",
       "7    35\n",
       "8    40\n",
       "9    45\n",
       "dtype: int64"
      ]
     },
     "execution_count": 15,
     "metadata": {},
     "output_type": "execute_result"
    }
   ],
   "source": [
    "# creating series by using methods\n",
    "number_series=pd.Series(i for i in range(0,50) if i%5==0)\n",
    "number_series\n"
   ]
  },
  {
   "cell_type": "code",
   "execution_count": 3,
   "id": "58af285f",
   "metadata": {
    "scrolled": true
   },
   "outputs": [
    {
     "ename": "NameError",
     "evalue": "name 'pd' is not defined",
     "output_type": "error",
     "traceback": [
      "\u001b[0;31m---------------------------------------------------------------------------\u001b[0m",
      "\u001b[0;31mNameError\u001b[0m                                 Traceback (most recent call last)",
      "\u001b[0;32m/tmp/ipykernel_4047/4075566137.py\u001b[0m in \u001b[0;36m<module>\u001b[0;34m\u001b[0m\n\u001b[0;32m----> 1\u001b[0;31m \u001b[0meven_number_series\u001b[0m\u001b[0;34m=\u001b[0m \u001b[0mpd\u001b[0m\u001b[0;34m.\u001b[0m\u001b[0mSeries\u001b[0m\u001b[0;34m(\u001b[0m\u001b[0mx\u001b[0m \u001b[0;32mfor\u001b[0m \u001b[0mx\u001b[0m \u001b[0;32min\u001b[0m \u001b[0mrange\u001b[0m\u001b[0;34m(\u001b[0m\u001b[0;36m100\u001b[0m\u001b[0;34m)\u001b[0m \u001b[0;32mif\u001b[0m \u001b[0mx\u001b[0m\u001b[0;34m%\u001b[0m\u001b[0;36m2\u001b[0m\u001b[0;34m==\u001b[0m\u001b[0;36m0\u001b[0m\u001b[0;34m)\u001b[0m\u001b[0;34m\u001b[0m\u001b[0;34m\u001b[0m\u001b[0m\n\u001b[0m\u001b[1;32m      2\u001b[0m \u001b[0meven_number_series\u001b[0m\u001b[0;34m\u001b[0m\u001b[0;34m\u001b[0m\u001b[0m\n",
      "\u001b[0;31mNameError\u001b[0m: name 'pd' is not defined"
     ]
    }
   ],
   "source": [
    "even_number_series= pd.Series(x for x in range(100) if x%2==0)\n",
    "even_number_series\n"
   ]
  },
  {
   "cell_type": "code",
   "execution_count": 20,
   "id": "402bb39b",
   "metadata": {},
   "outputs": [
    {
     "data": {
      "text/html": [
       "<div>\n",
       "<style scoped>\n",
       "    .dataframe tbody tr th:only-of-type {\n",
       "        vertical-align: middle;\n",
       "    }\n",
       "\n",
       "    .dataframe tbody tr th {\n",
       "        vertical-align: top;\n",
       "    }\n",
       "\n",
       "    .dataframe thead th {\n",
       "        text-align: right;\n",
       "    }\n",
       "</style>\n",
       "<table border=\"1\" class=\"dataframe\">\n",
       "  <thead>\n",
       "    <tr style=\"text-align: right;\">\n",
       "      <th></th>\n",
       "      <th>Name</th>\n",
       "      <th>Age</th>\n",
       "      <th>Sex</th>\n",
       "    </tr>\n",
       "  </thead>\n",
       "  <tbody>\n",
       "    <tr>\n",
       "      <th>0</th>\n",
       "      <td>Braund, Mr. Owen Harris</td>\n",
       "      <td>22</td>\n",
       "      <td>male</td>\n",
       "    </tr>\n",
       "    <tr>\n",
       "      <th>1</th>\n",
       "      <td>Allen, Mr. William Henry</td>\n",
       "      <td>35</td>\n",
       "      <td>male</td>\n",
       "    </tr>\n",
       "    <tr>\n",
       "      <th>2</th>\n",
       "      <td>Bonnell, Miss. Elizabeth</td>\n",
       "      <td>58</td>\n",
       "      <td>female</td>\n",
       "    </tr>\n",
       "    <tr>\n",
       "      <th>3</th>\n",
       "      <td>Baburam, Shrestha</td>\n",
       "      <td>38</td>\n",
       "      <td>male</td>\n",
       "    </tr>\n",
       "    <tr>\n",
       "      <th>4</th>\n",
       "      <td>asda, shah</td>\n",
       "      <td>24</td>\n",
       "      <td>female</td>\n",
       "    </tr>\n",
       "  </tbody>\n",
       "</table>\n",
       "</div>"
      ],
      "text/plain": [
       "                       Name  Age     Sex\n",
       "0   Braund, Mr. Owen Harris   22    male\n",
       "1  Allen, Mr. William Henry   35    male\n",
       "2  Bonnell, Miss. Elizabeth   58  female\n",
       "3         Baburam, Shrestha   38    male\n",
       "4                asda, shah   24  female"
      ]
     },
     "execution_count": 20,
     "metadata": {},
     "output_type": "execute_result"
    }
   ],
   "source": [
    "# DataFrame \n",
    "# (  selecting columns, adding new columns, broadcasting operation on columns, value_counts(),\n",
    "# drop dataframe rows with null values (dropna), fill null values (fillna), astype, sort_values(), \n",
    "# sort_index(),rank)\n",
    "\n",
    "# creating dataframe\n",
    "dataframe=pd.DataFrame({\n",
    "        \"Name\":[\"Braund, Mr. Owen Harris\",\"Allen, Mr. William Henry\",\"Bonnell, Miss. Elizabeth\",\"Baburam, Shrestha\",\"asda, shah\",],\n",
    "        \"Age\": [22, 35, 58,38,24],\n",
    "        \"Sex\": [\"male\", \"male\", \"female\",'male','female'],\n",
    "    })\n",
    "dataframe\n"
   ]
  },
  {
   "cell_type": "code",
   "execution_count": 29,
   "id": "97e597a6",
   "metadata": {},
   "outputs": [
    {
     "data": {
      "text/plain": [
       "0    22\n",
       "1    35\n",
       "2    58\n",
       "3    38\n",
       "4    24\n",
       "Name: Age, dtype: int64"
      ]
     },
     "execution_count": 29,
     "metadata": {},
     "output_type": "execute_result"
    }
   ],
   "source": [
    "#selecting columns\n",
    "dataframe[\"Name\"]\n",
    "dataframe[\"Age\"]\n",
    "dataframe[\"Sex\"]\n"
   ]
  },
  {
   "cell_type": "code",
   "execution_count": 38,
   "id": "e69b3ee4",
   "metadata": {},
   "outputs": [
    {
     "data": {
      "text/html": [
       "<div>\n",
       "<style scoped>\n",
       "    .dataframe tbody tr th:only-of-type {\n",
       "        vertical-align: middle;\n",
       "    }\n",
       "\n",
       "    .dataframe tbody tr th {\n",
       "        vertical-align: top;\n",
       "    }\n",
       "\n",
       "    .dataframe thead th {\n",
       "        text-align: right;\n",
       "    }\n",
       "</style>\n",
       "<table border=\"1\" class=\"dataframe\">\n",
       "  <thead>\n",
       "    <tr style=\"text-align: right;\">\n",
       "      <th></th>\n",
       "      <th>Name</th>\n",
       "      <th>Age</th>\n",
       "      <th>Sex</th>\n",
       "      <th>Qualification</th>\n",
       "      <th>Phone</th>\n",
       "      <th>Email</th>\n",
       "    </tr>\n",
       "  </thead>\n",
       "  <tbody>\n",
       "    <tr>\n",
       "      <th>0</th>\n",
       "      <td>Braund, Mr. Owen Harris</td>\n",
       "      <td>22</td>\n",
       "      <td>male</td>\n",
       "      <td>Msc</td>\n",
       "      <td>34542235</td>\n",
       "      <td>baburam@da</td>\n",
       "    </tr>\n",
       "    <tr>\n",
       "      <th>1</th>\n",
       "      <td>Allen, Mr. William Henry</td>\n",
       "      <td>35</td>\n",
       "      <td>male</td>\n",
       "      <td>MA</td>\n",
       "      <td>34534534</td>\n",
       "      <td>radasdj##</td>\n",
       "    </tr>\n",
       "    <tr>\n",
       "      <th>2</th>\n",
       "      <td>Bonnell, Miss. Elizabeth</td>\n",
       "      <td>58</td>\n",
       "      <td>female</td>\n",
       "      <td>Msc</td>\n",
       "      <td>34545235</td>\n",
       "      <td></td>\n",
       "    </tr>\n",
       "    <tr>\n",
       "      <th>3</th>\n",
       "      <td>Baburam, Shrestha</td>\n",
       "      <td>38</td>\n",
       "      <td>male</td>\n",
       "      <td>Msc</td>\n",
       "      <td>23252342</td>\n",
       "      <td></td>\n",
       "    </tr>\n",
       "    <tr>\n",
       "      <th>4</th>\n",
       "      <td>asda, shah</td>\n",
       "      <td>24</td>\n",
       "      <td>female</td>\n",
       "      <td>Bsc</td>\n",
       "      <td>25235235</td>\n",
       "      <td></td>\n",
       "    </tr>\n",
       "  </tbody>\n",
       "</table>\n",
       "</div>"
      ],
      "text/plain": [
       "                       Name  Age     Sex Qualification     Phone       Email\n",
       "0   Braund, Mr. Owen Harris   22    male           Msc  34542235  baburam@da\n",
       "1  Allen, Mr. William Henry   35    male            MA  34534534   radasdj##\n",
       "2  Bonnell, Miss. Elizabeth   58  female           Msc  34545235            \n",
       "3         Baburam, Shrestha   38    male           Msc  23252342            \n",
       "4                asda, shah   24  female           Bsc  25235235            "
      ]
     },
     "execution_count": 38,
     "metadata": {},
     "output_type": "execute_result"
    }
   ],
   "source": [
    "# adding new columns\n",
    "Qualification=['Msc', 'MA', 'Msc', 'Msc','Bsc']\n",
    "Phone=[34542235,34534534,34545235,23252342,25235235]\n",
    "Email=['baburam@da','radasdj##','','','']\n",
    "dataframe[\"Qualification\"]=Qualification\n",
    "dataframe[\"Phone\"]=Phone\n",
    "dataframe[\"Email\"]=Email\n",
    "dataframe"
   ]
  },
  {
   "cell_type": "code",
   "execution_count": 51,
   "id": "9920218e",
   "metadata": {},
   "outputs": [
    {
     "data": {
      "text/plain": [
       "(5,)"
      ]
     },
     "execution_count": 51,
     "metadata": {},
     "output_type": "execute_result"
    }
   ],
   "source": [
    "# broadcasting operation on columns\n",
    "dataframe[\"Age\"].add(6) # it add 6 to all the values in age column\n",
    "dataframe[\"Age\"].sub(4) # it substract 4 from all the values in age column\n",
    "dataframe[\"Age\"].mul(2) # it multiply by 2  for all the values in age column\n",
    "dataframe[\"Age\"].div(2) # it divide by 2  for all the values in age column\n",
    "dataframe[\"Age\"].mod(3) # it divide by 3  for all the values in age column and return remainder\n",
    "dataframe[\"Name\"].shape #returns the shape of name column of dataframe\n",
    "dataframe.shape # returns the shape of dataframe\n",
    "dataframe[\"Sex\"].shape #returns the shape of sex column of dataframe\n"
   ]
  },
  {
   "cell_type": "code",
   "execution_count": 55,
   "id": "c283715e",
   "metadata": {},
   "outputs": [
    {
     "data": {
      "text/plain": [
       "male      3\n",
       "female    2\n",
       "Name: Sex, dtype: int64"
      ]
     },
     "execution_count": 55,
     "metadata": {},
     "output_type": "execute_result"
    }
   ],
   "source": [
    "# value_counts()\n",
    "dataframe[\"Name\"].value_counts()\n",
    "dataframe[\"Sex\"].value_counts()"
   ]
  },
  {
   "cell_type": "code",
   "execution_count": 63,
   "id": "2ecb2d97",
   "metadata": {},
   "outputs": [
    {
     "data": {
      "text/html": [
       "<div>\n",
       "<style scoped>\n",
       "    .dataframe tbody tr th:only-of-type {\n",
       "        vertical-align: middle;\n",
       "    }\n",
       "\n",
       "    .dataframe tbody tr th {\n",
       "        vertical-align: top;\n",
       "    }\n",
       "\n",
       "    .dataframe thead th {\n",
       "        text-align: right;\n",
       "    }\n",
       "</style>\n",
       "<table border=\"1\" class=\"dataframe\">\n",
       "  <thead>\n",
       "    <tr style=\"text-align: right;\">\n",
       "      <th></th>\n",
       "      <th>Name</th>\n",
       "      <th>Age</th>\n",
       "      <th>Sex</th>\n",
       "      <th>Qualification</th>\n",
       "      <th>Phone</th>\n",
       "      <th>Email</th>\n",
       "    </tr>\n",
       "  </thead>\n",
       "  <tbody>\n",
       "    <tr>\n",
       "      <th>0</th>\n",
       "      <td>Braund, Mr. Owen Harris</td>\n",
       "      <td>22</td>\n",
       "      <td>male</td>\n",
       "      <td>Msc</td>\n",
       "      <td>34542235</td>\n",
       "      <td>baburam@da</td>\n",
       "    </tr>\n",
       "    <tr>\n",
       "      <th>1</th>\n",
       "      <td>Allen, Mr. William Henry</td>\n",
       "      <td>35</td>\n",
       "      <td>male</td>\n",
       "      <td>MA</td>\n",
       "      <td>34534534</td>\n",
       "      <td>radasdj##</td>\n",
       "    </tr>\n",
       "    <tr>\n",
       "      <th>2</th>\n",
       "      <td>Bonnell, Miss. Elizabeth</td>\n",
       "      <td>58</td>\n",
       "      <td>female</td>\n",
       "      <td>Msc</td>\n",
       "      <td>34545235</td>\n",
       "      <td></td>\n",
       "    </tr>\n",
       "    <tr>\n",
       "      <th>3</th>\n",
       "      <td>Baburam, Shrestha</td>\n",
       "      <td>38</td>\n",
       "      <td>male</td>\n",
       "      <td>Msc</td>\n",
       "      <td>23252342</td>\n",
       "      <td></td>\n",
       "    </tr>\n",
       "    <tr>\n",
       "      <th>4</th>\n",
       "      <td>asda, shah</td>\n",
       "      <td>24</td>\n",
       "      <td>female</td>\n",
       "      <td>Bsc</td>\n",
       "      <td>25235235</td>\n",
       "      <td></td>\n",
       "    </tr>\n",
       "  </tbody>\n",
       "</table>\n",
       "</div>"
      ],
      "text/plain": [
       "                       Name  Age     Sex Qualification     Phone       Email\n",
       "0   Braund, Mr. Owen Harris   22    male           Msc  34542235  baburam@da\n",
       "1  Allen, Mr. William Henry   35    male            MA  34534534   radasdj##\n",
       "2  Bonnell, Miss. Elizabeth   58  female           Msc  34545235            \n",
       "3         Baburam, Shrestha   38    male           Msc  23252342            \n",
       "4                asda, shah   24  female           Bsc  25235235            "
      ]
     },
     "execution_count": 63,
     "metadata": {},
     "output_type": "execute_result"
    }
   ],
   "source": [
    "# drop dataframe rows with null values (dropna),\n",
    "dataframe.dropna() # removes all rows with null values \n",
    "dataframe.dropna(axis=1) # removes all column with missing values\n",
    "dataframe.dropna(how='all', axis=1) # removes all rows and columns with missing values"
   ]
  },
  {
   "cell_type": "code",
   "execution_count": 73,
   "id": "23bf2132",
   "metadata": {},
   "outputs": [
    {
     "data": {
      "text/html": [
       "<div>\n",
       "<style scoped>\n",
       "    .dataframe tbody tr th:only-of-type {\n",
       "        vertical-align: middle;\n",
       "    }\n",
       "\n",
       "    .dataframe tbody tr th {\n",
       "        vertical-align: top;\n",
       "    }\n",
       "\n",
       "    .dataframe thead th {\n",
       "        text-align: right;\n",
       "    }\n",
       "</style>\n",
       "<table border=\"1\" class=\"dataframe\">\n",
       "  <thead>\n",
       "    <tr style=\"text-align: right;\">\n",
       "      <th></th>\n",
       "      <th>Name</th>\n",
       "      <th>Age</th>\n",
       "      <th>Sex</th>\n",
       "      <th>Qualification</th>\n",
       "      <th>Phone</th>\n",
       "      <th>Email</th>\n",
       "    </tr>\n",
       "  </thead>\n",
       "  <tbody>\n",
       "    <tr>\n",
       "      <th>0</th>\n",
       "      <td>Braund, Mr. Owen Harris</td>\n",
       "      <td>22</td>\n",
       "      <td>male</td>\n",
       "      <td>Msc</td>\n",
       "      <td>34542235</td>\n",
       "      <td>baburam@da</td>\n",
       "    </tr>\n",
       "    <tr>\n",
       "      <th>1</th>\n",
       "      <td>Allen, Mr. William Henry</td>\n",
       "      <td>35</td>\n",
       "      <td>male</td>\n",
       "      <td>MA</td>\n",
       "      <td>34534534</td>\n",
       "      <td>radasdj##</td>\n",
       "    </tr>\n",
       "    <tr>\n",
       "      <th>2</th>\n",
       "      <td>Bonnell, Miss. Elizabeth</td>\n",
       "      <td>58</td>\n",
       "      <td>female</td>\n",
       "      <td>Msc</td>\n",
       "      <td>34545235</td>\n",
       "      <td></td>\n",
       "    </tr>\n",
       "    <tr>\n",
       "      <th>3</th>\n",
       "      <td>Baburam, Shrestha</td>\n",
       "      <td>38</td>\n",
       "      <td>male</td>\n",
       "      <td>Msc</td>\n",
       "      <td>23252342</td>\n",
       "      <td></td>\n",
       "    </tr>\n",
       "    <tr>\n",
       "      <th>4</th>\n",
       "      <td>asda, shah</td>\n",
       "      <td>24</td>\n",
       "      <td>female</td>\n",
       "      <td>Bsc</td>\n",
       "      <td>25235235</td>\n",
       "      <td></td>\n",
       "    </tr>\n",
       "  </tbody>\n",
       "</table>\n",
       "</div>"
      ],
      "text/plain": [
       "                       Name  Age     Sex Qualification     Phone       Email\n",
       "0   Braund, Mr. Owen Harris   22    male           Msc  34542235  baburam@da\n",
       "1  Allen, Mr. William Henry   35    male            MA  34534534   radasdj##\n",
       "2  Bonnell, Miss. Elizabeth   58  female           Msc  34545235            \n",
       "3         Baburam, Shrestha   38    male           Msc  23252342            \n",
       "4                asda, shah   24  female           Bsc  25235235            "
      ]
     },
     "execution_count": 73,
     "metadata": {},
     "output_type": "execute_result"
    }
   ],
   "source": [
    " # fill null values (fillna)\n",
    "dataframe.fillna(\"23sdfbja#\")"
   ]
  },
  {
   "cell_type": "code",
   "execution_count": 99,
   "id": "899e7b7a",
   "metadata": {},
   "outputs": [
    {
     "data": {
      "text/plain": [
       "dtype('int64')"
      ]
     },
     "execution_count": 99,
     "metadata": {},
     "output_type": "execute_result"
    }
   ],
   "source": [
    " # dstype\n",
    "df = pd.DataFrame({'float': [1.0],\n",
    "                   'int': [1],\n",
    "                   'datetime': [pd.Timestamp('20180310')],\n",
    "                   'string': ['foo']})\n",
    "df.dtypes # returns the data types of the field\n",
    "\n",
    "dataframe[\"Phone\"].dtypes\n",
    "\n"
   ]
  },
  {
   "cell_type": "code",
   "execution_count": 101,
   "id": "9c4fbb65",
   "metadata": {},
   "outputs": [
    {
     "data": {
      "text/html": [
       "<div>\n",
       "<style scoped>\n",
       "    .dataframe tbody tr th:only-of-type {\n",
       "        vertical-align: middle;\n",
       "    }\n",
       "\n",
       "    .dataframe tbody tr th {\n",
       "        vertical-align: top;\n",
       "    }\n",
       "\n",
       "    .dataframe thead th {\n",
       "        text-align: right;\n",
       "    }\n",
       "</style>\n",
       "<table border=\"1\" class=\"dataframe\">\n",
       "  <thead>\n",
       "    <tr style=\"text-align: right;\">\n",
       "      <th></th>\n",
       "      <th>Name</th>\n",
       "      <th>Age</th>\n",
       "      <th>Sex</th>\n",
       "      <th>Qualification</th>\n",
       "      <th>Phone</th>\n",
       "      <th>Email</th>\n",
       "    </tr>\n",
       "  </thead>\n",
       "  <tbody>\n",
       "    <tr>\n",
       "      <th>2</th>\n",
       "      <td>Bonnell, Miss. Elizabeth</td>\n",
       "      <td>58</td>\n",
       "      <td>female</td>\n",
       "      <td>Msc</td>\n",
       "      <td>34545235</td>\n",
       "      <td></td>\n",
       "    </tr>\n",
       "    <tr>\n",
       "      <th>4</th>\n",
       "      <td>asda, shah</td>\n",
       "      <td>24</td>\n",
       "      <td>female</td>\n",
       "      <td>Bsc</td>\n",
       "      <td>25235235</td>\n",
       "      <td></td>\n",
       "    </tr>\n",
       "    <tr>\n",
       "      <th>0</th>\n",
       "      <td>Braund, Mr. Owen Harris</td>\n",
       "      <td>22</td>\n",
       "      <td>male</td>\n",
       "      <td>Msc</td>\n",
       "      <td>34542235</td>\n",
       "      <td>baburam@da</td>\n",
       "    </tr>\n",
       "    <tr>\n",
       "      <th>1</th>\n",
       "      <td>Allen, Mr. William Henry</td>\n",
       "      <td>35</td>\n",
       "      <td>male</td>\n",
       "      <td>MA</td>\n",
       "      <td>34534534</td>\n",
       "      <td>radasdj##</td>\n",
       "    </tr>\n",
       "    <tr>\n",
       "      <th>3</th>\n",
       "      <td>Baburam, Shrestha</td>\n",
       "      <td>38</td>\n",
       "      <td>male</td>\n",
       "      <td>Msc</td>\n",
       "      <td>23252342</td>\n",
       "      <td></td>\n",
       "    </tr>\n",
       "  </tbody>\n",
       "</table>\n",
       "</div>"
      ],
      "text/plain": [
       "                       Name  Age     Sex Qualification     Phone       Email\n",
       "2  Bonnell, Miss. Elizabeth   58  female           Msc  34545235            \n",
       "4                asda, shah   24  female           Bsc  25235235            \n",
       "0   Braund, Mr. Owen Harris   22    male           Msc  34542235  baburam@da\n",
       "1  Allen, Mr. William Henry   35    male            MA  34534534   radasdj##\n",
       "3         Baburam, Shrestha   38    male           Msc  23252342            "
      ]
     },
     "execution_count": 101,
     "metadata": {},
     "output_type": "execute_result"
    }
   ],
   "source": [
    " # sort_values()\n",
    "dataframe.sort_values(\"Sex\")\n"
   ]
  },
  {
   "cell_type": "code",
   "execution_count": 103,
   "id": "76f79a50",
   "metadata": {},
   "outputs": [
    {
     "data": {
      "text/html": [
       "<div>\n",
       "<style scoped>\n",
       "    .dataframe tbody tr th:only-of-type {\n",
       "        vertical-align: middle;\n",
       "    }\n",
       "\n",
       "    .dataframe tbody tr th {\n",
       "        vertical-align: top;\n",
       "    }\n",
       "\n",
       "    .dataframe thead th {\n",
       "        text-align: right;\n",
       "    }\n",
       "</style>\n",
       "<table border=\"1\" class=\"dataframe\">\n",
       "  <thead>\n",
       "    <tr style=\"text-align: right;\">\n",
       "      <th></th>\n",
       "      <th>Name</th>\n",
       "      <th>Age</th>\n",
       "      <th>Sex</th>\n",
       "      <th>Qualification</th>\n",
       "      <th>Phone</th>\n",
       "      <th>Email</th>\n",
       "    </tr>\n",
       "  </thead>\n",
       "  <tbody>\n",
       "    <tr>\n",
       "      <th>0</th>\n",
       "      <td>Braund, Mr. Owen Harris</td>\n",
       "      <td>22</td>\n",
       "      <td>male</td>\n",
       "      <td>Msc</td>\n",
       "      <td>34542235</td>\n",
       "      <td>baburam@da</td>\n",
       "    </tr>\n",
       "    <tr>\n",
       "      <th>1</th>\n",
       "      <td>Allen, Mr. William Henry</td>\n",
       "      <td>35</td>\n",
       "      <td>male</td>\n",
       "      <td>MA</td>\n",
       "      <td>34534534</td>\n",
       "      <td>radasdj##</td>\n",
       "    </tr>\n",
       "    <tr>\n",
       "      <th>2</th>\n",
       "      <td>Bonnell, Miss. Elizabeth</td>\n",
       "      <td>58</td>\n",
       "      <td>female</td>\n",
       "      <td>Msc</td>\n",
       "      <td>34545235</td>\n",
       "      <td></td>\n",
       "    </tr>\n",
       "    <tr>\n",
       "      <th>3</th>\n",
       "      <td>Baburam, Shrestha</td>\n",
       "      <td>38</td>\n",
       "      <td>male</td>\n",
       "      <td>Msc</td>\n",
       "      <td>23252342</td>\n",
       "      <td></td>\n",
       "    </tr>\n",
       "    <tr>\n",
       "      <th>4</th>\n",
       "      <td>asda, shah</td>\n",
       "      <td>24</td>\n",
       "      <td>female</td>\n",
       "      <td>Bsc</td>\n",
       "      <td>25235235</td>\n",
       "      <td></td>\n",
       "    </tr>\n",
       "  </tbody>\n",
       "</table>\n",
       "</div>"
      ],
      "text/plain": [
       "                       Name  Age     Sex Qualification     Phone       Email\n",
       "0   Braund, Mr. Owen Harris   22    male           Msc  34542235  baburam@da\n",
       "1  Allen, Mr. William Henry   35    male            MA  34534534   radasdj##\n",
       "2  Bonnell, Miss. Elizabeth   58  female           Msc  34545235            \n",
       "3         Baburam, Shrestha   38    male           Msc  23252342            \n",
       "4                asda, shah   24  female           Bsc  25235235            "
      ]
     },
     "execution_count": 103,
     "metadata": {},
     "output_type": "execute_result"
    }
   ],
   "source": [
    "# sort_index()\n",
    "dataframe.sort_index()"
   ]
  },
  {
   "cell_type": "code",
   "execution_count": 109,
   "id": "fa6313ef",
   "metadata": {},
   "outputs": [
    {
     "data": {
      "text/plain": [
       "0    4.0\n",
       "1    4.0\n",
       "2    1.5\n",
       "3    4.0\n",
       "4    1.5\n",
       "Name: Sex, dtype: float64"
      ]
     },
     "execution_count": 109,
     "metadata": {},
     "output_type": "execute_result"
    }
   ],
   "source": [
    "# rank()\n",
    "\n",
    "dataframe[\"Sex\"].rank() # returns the ranks for the specifies values of columns\n"
   ]
  },
  {
   "cell_type": "code",
   "execution_count": 201,
   "id": "3bdca95b",
   "metadata": {
    "scrolled": false
   },
   "outputs": [
    {
     "data": {
      "text/html": [
       "<div>\n",
       "<style scoped>\n",
       "    .dataframe tbody tr th:only-of-type {\n",
       "        vertical-align: middle;\n",
       "    }\n",
       "\n",
       "    .dataframe tbody tr th {\n",
       "        vertical-align: top;\n",
       "    }\n",
       "\n",
       "    .dataframe thead th {\n",
       "        text-align: right;\n",
       "    }\n",
       "</style>\n",
       "<table border=\"1\" class=\"dataframe\">\n",
       "  <thead>\n",
       "    <tr style=\"text-align: right;\">\n",
       "      <th></th>\n",
       "      <th>Name</th>\n",
       "      <th>Age</th>\n",
       "      <th>Phone</th>\n",
       "    </tr>\n",
       "  </thead>\n",
       "  <tbody>\n",
       "  </tbody>\n",
       "</table>\n",
       "</div>"
      ],
      "text/plain": [
       "Empty DataFrame\n",
       "Columns: [Name, Age, Phone]\n",
       "Index: []"
      ]
     },
     "execution_count": 201,
     "metadata": {},
     "output_type": "execute_result"
    }
   ],
   "source": [
    "\n",
    "# DataFrame 2 Filtering data \n",
    "data = [['Alsex',10],['Babu',12],['Clarkyee',13],['Allelex',14],['Bob',15],['Clariike',16],['Alexeder',13],['Bobin',17],['Claerkeee',18]]\n",
    "df = pd.DataFrame(data,columns=['Name','Age'])\n",
    "df[\"Phone\"]=[234,534,345,354,343,345,324,345,347]\n",
    "df\n",
    "# isin()\n",
    "df[df[\"Age\"].isin([10,15,16])] # returns the matheched rows (A)\n",
    "# or\n",
    "df[(df[\"Age\"]==20) | (df[\"Age\"]==58)] # returns the matheched rows (equivalent to A)\n",
    "# isnull\n",
    "\n",
    "df.isnull()\n",
    "# notnull\n",
    "df.notnull()\n",
    "# between()\n",
    "df[\"Age\"].between(15,20)\n",
    "\n",
    "# filter specific rows from a DataFrame\n",
    "above_35 = df[df[\"Age\"] > 18]\n",
    "above_35\n",
    "\n",
    "male_person=df[df[\"Name\"]==\"Babu\"]\n",
    "male_person\n",
    "\n",
    "shape_df=df.shape # it returns (Rows,Columns)\n",
    "shape_df"
   ]
  },
  {
   "cell_type": "code",
   "execution_count": 190,
   "id": "ddfcd2d8",
   "metadata": {},
   "outputs": [
    {
     "data": {
      "text/html": [
       "<div>\n",
       "<style scoped>\n",
       "    .dataframe tbody tr th:only-of-type {\n",
       "        vertical-align: middle;\n",
       "    }\n",
       "\n",
       "    .dataframe tbody tr th {\n",
       "        vertical-align: top;\n",
       "    }\n",
       "\n",
       "    .dataframe thead th {\n",
       "        text-align: right;\n",
       "    }\n",
       "</style>\n",
       "<table border=\"1\" class=\"dataframe\">\n",
       "  <thead>\n",
       "    <tr style=\"text-align: right;\">\n",
       "      <th></th>\n",
       "      <th>Name</th>\n",
       "      <th>Employment Type</th>\n",
       "      <th>Department</th>\n",
       "    </tr>\n",
       "  </thead>\n",
       "  <tbody>\n",
       "    <tr>\n",
       "      <th>0</th>\n",
       "      <td>Arpit</td>\n",
       "      <td>Full-time Employee</td>\n",
       "      <td>Administration</td>\n",
       "    </tr>\n",
       "    <tr>\n",
       "      <th>1</th>\n",
       "      <td>Riya</td>\n",
       "      <td>Part-time Employee</td>\n",
       "      <td>Marketing</td>\n",
       "    </tr>\n",
       "    <tr>\n",
       "      <th>2</th>\n",
       "      <td>Priyanka</td>\n",
       "      <td>Intern</td>\n",
       "      <td>Technical</td>\n",
       "    </tr>\n",
       "    <tr>\n",
       "      <th>3</th>\n",
       "      <td>Aman</td>\n",
       "      <td>Intern</td>\n",
       "      <td>Marketing</td>\n",
       "    </tr>\n",
       "    <tr>\n",
       "      <th>5</th>\n",
       "      <td>Rohan</td>\n",
       "      <td>Part-time Employee</td>\n",
       "      <td>Technical</td>\n",
       "    </tr>\n",
       "    <tr>\n",
       "      <th>7</th>\n",
       "      <td>Sakshi</td>\n",
       "      <td>Full-time Employee</td>\n",
       "      <td>Administration</td>\n",
       "    </tr>\n",
       "  </tbody>\n",
       "</table>\n",
       "</div>"
      ],
      "text/plain": [
       "       Name     Employment Type      Department\n",
       "0     Arpit  Full-time Employee  Administration\n",
       "1      Riya  Part-time Employee       Marketing\n",
       "2  Priyanka              Intern       Technical\n",
       "3      Aman              Intern       Marketing\n",
       "5     Rohan  Part-time Employee       Technical\n",
       "7    Sakshi  Full-time Employee  Administration"
      ]
     },
     "execution_count": 190,
     "metadata": {},
     "output_type": "execute_result"
    }
   ],
   "source": [
    "data_df = {\n",
    "    'Name': ['Arpit', 'Riya', 'Priyanka', 'Aman', 'Arpit', 'Rohan', 'Riya', 'Sakshi'],\n",
    "\n",
    "    'Employment Type': ['Full-time Employee', 'Part-time Employee', 'Intern', 'Intern','Full-time Employee', 'Part-time Employee', 'Part-time Employee', 'Full-time Employee'],\n",
    "\n",
    "    'Department': ['Administration', 'Marketing', 'Technical', 'Marketing','Administration', 'Technical', 'Marketing', 'Administration']\n",
    "}\n",
    "\n",
    "df=pd.DataFrame(data_df)\n",
    "# duplicate()\n",
    "df.duplicated(subset = None, keep = 'last')\n",
    "# drop_duplicate()\n",
    "df.drop_duplicates()\n"
   ]
  },
  {
   "cell_type": "code",
   "execution_count": 214,
   "id": "f42894c3",
   "metadata": {},
   "outputs": [
    {
     "data": {
      "text/html": [
       "<div>\n",
       "<style scoped>\n",
       "    .dataframe tbody tr th:only-of-type {\n",
       "        vertical-align: middle;\n",
       "    }\n",
       "\n",
       "    .dataframe tbody tr th {\n",
       "        vertical-align: top;\n",
       "    }\n",
       "\n",
       "    .dataframe thead th {\n",
       "        text-align: right;\n",
       "    }\n",
       "</style>\n",
       "<table border=\"1\" class=\"dataframe\">\n",
       "  <thead>\n",
       "    <tr style=\"text-align: right;\">\n",
       "      <th></th>\n",
       "      <th>index</th>\n",
       "      <th>Name</th>\n",
       "      <th>Age</th>\n",
       "      <th>Sex</th>\n",
       "      <th>OppositeSex</th>\n",
       "    </tr>\n",
       "  </thead>\n",
       "  <tbody>\n",
       "    <tr>\n",
       "      <th>0</th>\n",
       "      <td>0</td>\n",
       "      <td>Braund, Mr. Owen Harris</td>\n",
       "      <td>22</td>\n",
       "      <td>male</td>\n",
       "      <td>female</td>\n",
       "    </tr>\n",
       "    <tr>\n",
       "      <th>1</th>\n",
       "      <td>1</td>\n",
       "      <td>Allen, Mr. William Henry</td>\n",
       "      <td>35</td>\n",
       "      <td>male</td>\n",
       "      <td>female</td>\n",
       "    </tr>\n",
       "    <tr>\n",
       "      <th>2</th>\n",
       "      <td>2</td>\n",
       "      <td>Bonnell, Miss. Elizabeth</td>\n",
       "      <td>58</td>\n",
       "      <td>female</td>\n",
       "      <td>male</td>\n",
       "    </tr>\n",
       "    <tr>\n",
       "      <th>3</th>\n",
       "      <td>3</td>\n",
       "      <td>Baburam, Shrestha</td>\n",
       "      <td>38</td>\n",
       "      <td>male</td>\n",
       "      <td>female</td>\n",
       "    </tr>\n",
       "    <tr>\n",
       "      <th>4</th>\n",
       "      <td>4</td>\n",
       "      <td>asda, shah</td>\n",
       "      <td>24</td>\n",
       "      <td>female</td>\n",
       "      <td>male</td>\n",
       "    </tr>\n",
       "  </tbody>\n",
       "</table>\n",
       "</div>"
      ],
      "text/plain": [
       "   index                      Name  Age     Sex OppositeSex\n",
       "0      0   Braund, Mr. Owen Harris   22    male      female\n",
       "1      1  Allen, Mr. William Henry   35    male      female\n",
       "2      2  Bonnell, Miss. Elizabeth   58  female        male\n",
       "3      3         Baburam, Shrestha   38    male      female\n",
       "4      4                asda, shah   24  female        male"
      ]
     },
     "execution_count": 214,
     "metadata": {},
     "output_type": "execute_result"
    }
   ],
   "source": [
    "\n",
    "# DataFrame 3\n",
    "dataframe=pd.DataFrame({\n",
    "        \"Name\":[\"Braund, Mr. Owen Harris\",\"Allen, Mr. William Henry\",\"Bonnell, Miss. Elizabeth\",\"Baburam, Shrestha\",\"asda, shah\",],\n",
    "        \"Age\": [22, 35, 58,38,24],\n",
    "        \"Sex\": [\"male\", \"male\", \"female\",'male','female'],\n",
    "    })\n",
    "dataframe\n",
    "# set_index()\n",
    "dataframe.set_index([\"Name\", \"Age\", \"Sex\"])\n",
    "\n",
    "OppositeSex=[\"female\", \"female\", \"male\",'female','male']\n",
    "dataframe[\"OppositeSex\"]=OppositeSex\n",
    "dataframe\n",
    "dataframe.set_index([\"Name\", \"Age\", \"Sex\"]) # returns th difference not using set_index method\n",
    "dataframe\n",
    "# reset_index()\n",
    "dataframe.reset_index()\n",
    "\n",
    "# loc[]\n",
    "adult_names = dataframe.loc[dataframe[\"Age\"] > 15, \"Name\",] # returns the Name  whose age is grater than 15\n",
    "adult_names\n",
    "\n",
    "adult_names = dataframe.loc[2] # returns the details of the 3rd row \n",
    "adult_names\n",
    "\n",
    "# # iloc[]\n",
    "row_col=dataframe.iloc[1:4, 0:2] # rows 1 to 3 and columns 0 to 1.\n",
    "row_col\n",
    "\n",
    "# rename index or columns\n",
    "\n",
    "# delete rows or columns( drop, pop,del)\n",
    "\n",
    "# sample\n",
    "# nsmallest\n",
    "# nlargest\n",
    "# where\n",
    "# query\n",
    "# apply\n",
    "# copy\n"
   ]
  },
  {
   "cell_type": "code",
   "execution_count": 69,
   "id": "be71d8f7",
   "metadata": {},
   "outputs": [
    {
     "data": {
      "text/plain": [
       "0    [Braund,  Mr?. /Owen Harris]\n",
       "1    [Allen,  Mr. William Henry\\]\n",
       "2     [Bonnell,  Miss. Elizabeth]\n",
       "3            [Baburam,  Shrestha]\n",
       "4                   [asda,  shah]\n",
       "dtype: object"
      ]
     },
     "execution_count": 69,
     "metadata": {},
     "output_type": "execute_result"
    }
   ],
   "source": [
    "\n",
    "# Working with Text Data: String methods\n",
    "import pandas as pd\n",
    "dataseries=pd.Series([\"Braund, Mr?. /Owen Harris\",\"Allen, Mr. William Henry\\\\\",\"Bonnell, Miss. Elizabeth\",\"Baburam, Shrestha\",\"asda, shah\"])\n",
    "dataframe=pd.DataFrame({\n",
    "        \"Name\":[\"Braund, Mr. Owen Harris\",\"Allen, Mr. William Henry\",\"Bonnell, Miss. Elizabeth\",\"Baburam, Shrestha\",\"asda, shah\",],\n",
    "        \"Age\": [22, 35, 58,38,24],\n",
    "        \"Sex\": [\"male\", \"male\", \"female\",'male','female'],})\n",
    "dataseries\n",
    "dataframe\n",
    "# lower\n",
    "dataseries.str.lower()\n",
    "dataframe[\"Name\"].str.lower()\n",
    "# # upper\n",
    "# dataseries.str.upper()\n",
    "dataframe[\"Name\"].str.upper()\n",
    "# # title\n",
    "dataseries.str.title()\n",
    "dataframe[\"Name\"].str.title()\n",
    "# # len\n",
    "dataseries.str.len()\n",
    "dataframe[\"Name\"].str.len()\n",
    "# # replace\n",
    "dataseries.replace(\"Braund, Mr. Owen Harris\", \"Baburam Shrestha\")\n",
    "\n",
    "# contains\n",
    "dataseries.str.contains(\"Ow\")\n",
    "dataframe['Name'].str.contains(\"Babu\")\n",
    "\n",
    "# startswith\n",
    "\n",
    "dataseries.str.startswith(\"Babu\")#returns tha values which starts with Babu\n",
    "dataframe[\"Name\"].str.startswith(\"Babu\") #returns tha values which starts with Babu\n",
    "# endswith\n",
    "dataseries.str.endswith(\"tha\") #returns tha values which ends with tha\n",
    "dataframe[\"Sex\"].str.endswith('ale') #returns tha values which ends with ale\n",
    "# lstrip\n",
    "dataseries.str.lstrip(\"Bonnell,\") # returns the right side value from this values\n",
    "dataframe[\"Sex\"].str.lstrip('tha') #returns tha values which ends with ale\n",
    "# rstrip\n",
    "dataseries.str.rstrip(\" Henry\\\\\") # returns the left side value from this values\n",
    "dataframe[\"Sex\"].str.rstrip('ale') #returns tha values which ends with ale\n",
    "# # strip\n",
    "dataseries.str.strip('123.!? \\n\\t') \n",
    "# split\n",
    "dataseries.str.split(\",\") # returns the list of text by seperating the text by , comma\n"
   ]
  },
  {
   "cell_type": "code",
   "execution_count": null,
   "id": "f7ed5554",
   "metadata": {},
   "outputs": [],
   "source": [
    "\n",
    "# MultiIndex:create multiindex using \n",
    "# set_index\n",
    "# get_level_values\n",
    "# set_names\n",
    "# sort_index()\n",
    "# transpose matrix\n",
    "# swaplevel()\n",
    "# stack()\n",
    "# unstack()\n",
    "# pivot\n",
    "# pivot_table\n",
    "# melt\n"
   ]
  },
  {
   "cell_type": "code",
   "execution_count": 91,
   "id": "ae6fe6c2",
   "metadata": {},
   "outputs": [
    {
     "data": {
      "text/plain": [
       "<pandas.core.groupby.generic.DataFrameGroupBy object at 0x7fcecb3a9330>"
      ]
     },
     "execution_count": 91,
     "metadata": {},
     "output_type": "execute_result"
    }
   ],
   "source": [
    "\n",
    "# groupby\n",
    "daaframe.groupby(\"Age\")\n",
    "#mean\n",
    "dataframe[\"Age\"].mean()\n",
    "\n",
    "# first\n",
    "dataframe[\"Age\"].first\n",
    "# last\n",
    "dataframe[\"Age\"].last\n",
    "\n",
    "\n",
    "# max\n",
    "dataframe[\"Age\"].max()\n",
    "# min\n",
    "dataframe[\"Age\"].min()\n",
    "# sum\n",
    "dataframe[\"Age\"].sum()\n",
    "# agg\n",
    "dataframe[\"Age\"].agg\n"
   ]
  },
  {
   "cell_type": "code",
   "execution_count": 93,
   "id": "3f9394de",
   "metadata": {},
   "outputs": [
    {
     "ename": "AttributeError",
     "evalue": "'DataFrame' object has no attribute 'get_groups'",
     "output_type": "error",
     "traceback": [
      "\u001b[0;31m---------------------------------------------------------------------------\u001b[0m",
      "\u001b[0;31mAttributeError\u001b[0m                            Traceback (most recent call last)",
      "\u001b[0;32m/tmp/ipykernel_4047/876612642.py\u001b[0m in \u001b[0;36m<module>\u001b[0;34m\u001b[0m\n\u001b[1;32m      8\u001b[0m \u001b[0;34m\u001b[0m\u001b[0m\n\u001b[1;32m      9\u001b[0m \u001b[0;31m# get_group\u001b[0m\u001b[0;34m\u001b[0m\u001b[0;34m\u001b[0m\u001b[0m\n\u001b[0;32m---> 10\u001b[0;31m \u001b[0mdataframe\u001b[0m\u001b[0;34m.\u001b[0m\u001b[0mget_groups\u001b[0m\u001b[0;34m(\u001b[0m\u001b[0;34m(\u001b[0m\u001b[0;34m\"A\"\u001b[0m\u001b[0;34m)\u001b[0m\u001b[0;34m)\u001b[0m \u001b[0;31m# takes tuple as argument\u001b[0m\u001b[0;34m\u001b[0m\u001b[0;34m\u001b[0m\u001b[0m\n\u001b[0m\u001b[1;32m     11\u001b[0m \u001b[0;31m# # max\u001b[0m\u001b[0;34m\u001b[0m\u001b[0;34m\u001b[0m\u001b[0m\n\u001b[1;32m     12\u001b[0m \u001b[0;31m# dataframe[\"Age\"].max\u001b[0m\u001b[0;34m\u001b[0m\u001b[0;34m\u001b[0m\u001b[0m\n",
      "\u001b[0;32m~/.local/lib/python3.10/site-packages/pandas/core/generic.py\u001b[0m in \u001b[0;36m__getattr__\u001b[0;34m(self, name)\u001b[0m\n\u001b[1;32m   5573\u001b[0m         ):\n\u001b[1;32m   5574\u001b[0m             \u001b[0;32mreturn\u001b[0m \u001b[0mself\u001b[0m\u001b[0;34m[\u001b[0m\u001b[0mname\u001b[0m\u001b[0;34m]\u001b[0m\u001b[0;34m\u001b[0m\u001b[0;34m\u001b[0m\u001b[0m\n\u001b[0;32m-> 5575\u001b[0;31m         \u001b[0;32mreturn\u001b[0m \u001b[0mobject\u001b[0m\u001b[0;34m.\u001b[0m\u001b[0m__getattribute__\u001b[0m\u001b[0;34m(\u001b[0m\u001b[0mself\u001b[0m\u001b[0;34m,\u001b[0m \u001b[0mname\u001b[0m\u001b[0;34m)\u001b[0m\u001b[0;34m\u001b[0m\u001b[0;34m\u001b[0m\u001b[0m\n\u001b[0m\u001b[1;32m   5576\u001b[0m \u001b[0;34m\u001b[0m\u001b[0m\n\u001b[1;32m   5577\u001b[0m     \u001b[0;32mdef\u001b[0m \u001b[0m__setattr__\u001b[0m\u001b[0;34m(\u001b[0m\u001b[0mself\u001b[0m\u001b[0;34m,\u001b[0m \u001b[0mname\u001b[0m\u001b[0;34m:\u001b[0m \u001b[0mstr\u001b[0m\u001b[0;34m,\u001b[0m \u001b[0mvalue\u001b[0m\u001b[0;34m)\u001b[0m \u001b[0;34m->\u001b[0m \u001b[0;32mNone\u001b[0m\u001b[0;34m:\u001b[0m\u001b[0;34m\u001b[0m\u001b[0;34m\u001b[0m\u001b[0m\n",
      "\u001b[0;31mAttributeError\u001b[0m: 'DataFrame' object has no attribute 'get_groups'"
     ]
    }
   ],
   "source": [
    "#mean\n",
    "dataframe[\"Age\"].mean()\n",
    "\n",
    "# first\n",
    "dataframe[\"Age\"].first\n",
    "# last\n",
    "dataframe[\"Age\"].last\n",
    "\n",
    "# get_group\n",
    "dataframe.get_groups((\"A\")) # takes tuple as argument\n",
    "# # max\n",
    "dataframe[\"Age\"].max\n",
    "# # min\n",
    "dataframe[\"Age\"].min\n",
    "# # sum\n",
    "dataframe[\"Age\"].sum\n",
    "# # agg\n",
    "dataframe[\"Age\"].agg"
   ]
  },
  {
   "cell_type": "code",
   "execution_count": 109,
   "id": "b8771b3b",
   "metadata": {},
   "outputs": [
    {
     "name": "stderr",
     "output_type": "stream",
     "text": [
      "/tmp/ipykernel_4047/2657505593.py:27: FutureWarning: The frame.append method is deprecated and will be removed from pandas in a future version. Use pandas.concat instead.\n",
      "  result = df1.append(df2, sort=False)\n"
     ]
    },
    {
     "data": {
      "text/html": [
       "<div>\n",
       "<style scoped>\n",
       "    .dataframe tbody tr th:only-of-type {\n",
       "        vertical-align: middle;\n",
       "    }\n",
       "\n",
       "    .dataframe tbody tr th {\n",
       "        vertical-align: top;\n",
       "    }\n",
       "\n",
       "    .dataframe thead th {\n",
       "        text-align: right;\n",
       "    }\n",
       "</style>\n",
       "<table border=\"1\" class=\"dataframe\">\n",
       "  <thead>\n",
       "    <tr style=\"text-align: right;\">\n",
       "      <th></th>\n",
       "      <th>A</th>\n",
       "      <th>B</th>\n",
       "      <th>C</th>\n",
       "      <th>D</th>\n",
       "    </tr>\n",
       "  </thead>\n",
       "  <tbody>\n",
       "    <tr>\n",
       "      <th>0</th>\n",
       "      <td>A0</td>\n",
       "      <td>B0</td>\n",
       "      <td>C0</td>\n",
       "      <td>D0</td>\n",
       "    </tr>\n",
       "    <tr>\n",
       "      <th>1</th>\n",
       "      <td>A1</td>\n",
       "      <td>B1</td>\n",
       "      <td>C1</td>\n",
       "      <td>D1</td>\n",
       "    </tr>\n",
       "    <tr>\n",
       "      <th>2</th>\n",
       "      <td>A2</td>\n",
       "      <td>B2</td>\n",
       "      <td>C2</td>\n",
       "      <td>D2</td>\n",
       "    </tr>\n",
       "    <tr>\n",
       "      <th>3</th>\n",
       "      <td>A3</td>\n",
       "      <td>B3</td>\n",
       "      <td>C3</td>\n",
       "      <td>D3</td>\n",
       "    </tr>\n",
       "    <tr>\n",
       "      <th>4</th>\n",
       "      <td>A4</td>\n",
       "      <td>B4</td>\n",
       "      <td>C4</td>\n",
       "      <td>D4</td>\n",
       "    </tr>\n",
       "    <tr>\n",
       "      <th>5</th>\n",
       "      <td>A5</td>\n",
       "      <td>B5</td>\n",
       "      <td>C5</td>\n",
       "      <td>D5</td>\n",
       "    </tr>\n",
       "    <tr>\n",
       "      <th>6</th>\n",
       "      <td>A6</td>\n",
       "      <td>B6</td>\n",
       "      <td>C6</td>\n",
       "      <td>D6</td>\n",
       "    </tr>\n",
       "    <tr>\n",
       "      <th>7</th>\n",
       "      <td>A7</td>\n",
       "      <td>B7</td>\n",
       "      <td>C7</td>\n",
       "      <td>D7</td>\n",
       "    </tr>\n",
       "  </tbody>\n",
       "</table>\n",
       "</div>"
      ],
      "text/plain": [
       "    A   B   C   D\n",
       "0  A0  B0  C0  D0\n",
       "1  A1  B1  C1  D1\n",
       "2  A2  B2  C2  D2\n",
       "3  A3  B3  C3  D3\n",
       "4  A4  B4  C4  D4\n",
       "5  A5  B5  C5  D5\n",
       "6  A6  B6  C6  D6\n",
       "7  A7  B7  C7  D7"
      ]
     },
     "execution_count": 109,
     "metadata": {},
     "output_type": "execute_result"
    }
   ],
   "source": [
    "df1 = pd.DataFrame({\n",
    "    'A': ['A0', 'A1', 'A2', 'A3'],\n",
    "    'B': ['B0', 'B1', 'B2', 'B3'],\n",
    "    'C': ['C0', 'C1', 'C2', 'C3'],\n",
    "    'D': ['D0', 'D1', 'D2', 'D3']},\n",
    "    index=[0, 1, 2, 3])\n",
    "\n",
    "df2 = pd.DataFrame({\n",
    "    'A': ['A4', 'A5', 'A6', 'A7'],\n",
    "    'B': ['B4', 'B5', 'B6', 'B7'],                    \n",
    "    'C': ['C4', 'C5', 'C6', 'C7'],                     \n",
    "    'D': ['D4', 'D5', 'D6', 'D7']},\n",
    "    index=[4, 5, 6, 7])\n",
    "# concatenation # Merge # join\n",
    "\n",
    "dataframes = [df1, df2]\n",
    "result = pd.concat(dataframes,join='outer',keys=['x','y'])\n",
    "result\n",
    "result.loc['x']\n",
    "result = pd.concat(dataframes,join='inner',keys=['x','y'])\n",
    "result\n",
    "result.loc['x']\n",
    "# append\n",
    "result = df1.append(df2, sort=False)\n",
    "result\n"
   ]
  },
  {
   "cell_type": "code",
   "execution_count": null,
   "id": "ab8c7e25",
   "metadata": {},
   "outputs": [],
   "source": [
    "\n",
    "# Working with DataTimes\n",
    "# Timestamp\n",
    "# DateTimeIndex\n",
    "# to_datetime()\n",
    "# date_range()\n",
    "# Timestamp object attributes and methods\n",
    "# DataOffset\n",
    "# Timeseries offset\n",
    "# timedelta"
   ]
  },
  {
   "cell_type": "code",
   "execution_count": 83,
   "id": "4fa4d169",
   "metadata": {},
   "outputs": [],
   "source": [
    "\n",
    "# Input and Output in Pandas\n",
    "# read_csv file\n",
    "air_quality = pd.read_csv(\"air_quality.csv\")\n",
    "air=air_quality.head()\n",
    "en.openfoodfacts.org.products\n",
    "# save to_csv file\n",
    "air=air_quality.head()\n",
    "air.to_csv('air.csv')\n",
    "air\n",
    "\n",
    "\n",
    "# read_excel file # pip install openpyxl needed\n",
    "titanic= pd.read_excel('titanic.xlsx',sheet_name='titanic')\n",
    "titan = titanic.head() \n",
    "titan\n",
    "\n",
    "# save to_excel file\n",
    "titan.to_excel('titan.xlsx')"
   ]
  },
  {
   "cell_type": "code",
   "execution_count": 232,
   "id": "6b888338",
   "metadata": {},
   "outputs": [
    {
     "data": {
      "image/png": "[encoded data removed]",
      "text/plain": [
       "<Figure size 432x288 with 1 Axes>"
      ]
     },
     "metadata": {
      "needs_background": "light"
     },
     "output_type": "display_data"
    },
    {
     "data": {
      "image/png": "[encoded data removed]",
      "text/plain": [
       "<Figure size 432x288 with 1 Axes>"
      ]
     },
     "metadata": {
      "needs_background": "light"
     },
     "output_type": "display_data"
    },
    {
     "name": "stderr",
     "output_type": "stream",
     "text": [
      "/home/babucode/.local/lib/python3.10/site-packages/pandas/plotting/_matplotlib/core.py:1114: UserWarning: No data for colormapping provided via 'c'. Parameters 'cmap' will be ignored\n",
      "  scatter = ax.scatter(\n"
     ]
    },
    {
     "data": {
      "image/png": "[encoded data removed]",
      "text/plain": [
       "<Figure size 432x288 with 1 Axes>"
      ]
     },
     "metadata": {
      "needs_background": "light"
     },
     "output_type": "display_data"
    },
    {
     "data": {
      "image/png": "[encoded data removed]",
      "text/plain": [
       "<Figure size 432x288 with 1 Axes>"
      ]
     },
     "metadata": {
      "needs_background": "light"
     },
     "output_type": "display_data"
    },
    {
     "data": {
      "image/png": "[encoded data removed]",
      "text/plain": [
       "<Figure size 864x288 with 3 Axes>"
      ]
     },
     "metadata": {
      "needs_background": "light"
     },
     "output_type": "display_data"
    },
    {
     "data": {
      "image/png": "[encoded data removed]",
      "text/plain": [
       "<Figure size 864x288 with 1 Axes>"
      ]
     },
     "metadata": {
      "needs_background": "light"
     },
     "output_type": "display_data"
    },
    {
     "data": {
      "image/png": "[encoded data removed]",
      "text/plain": [
       "<Figure size 432x288 with 1 Axes>"
      ]
     },
     "metadata": {
      "needs_background": "light"
     },
     "output_type": "display_data"
    }
   ],
   "source": [
    "# Data Visualization\n",
    "# plot\n",
    "\n",
    "# matplotlib\n",
    "import matplotlib.pyplot as plt\n",
    "\n",
    "air_quality = pd.read_csv('air_quality.csv', index_col=0, parse_dates=True)\n",
    "air_quality.head()\n",
    "\n",
    "air_quality.plot() # ploting the air_quality data \n",
    "plt.show()\n",
    "\n",
    "air_quality[\"station_paris\"].plot()\n",
    "plt.show()\n",
    "\n",
    "air_quality.plot.scatter(x=\"station_london\", y=\"station_paris\", alpha=0.8)\n",
    "plt.show()\n",
    "\n",
    "air_quality.plot.box()\n",
    "plt.show()\n",
    "\n",
    "air_quality.plot.area(figsize=(12, 4), subplots=True)\n",
    "plt.show()\n",
    "\n",
    "fig, axs = plt.subplots(figsize=(12, 4))\n",
    "air_quality.plot.area(ax=axs)\n",
    "\n",
    "axs.set_ylabel(\"NO$_2$ concentration\")\n",
    "fig.savefig(\"no2_concentrations.png\")\n",
    "plt.show()\n",
    "\n",
    "air_quality[\"station_paris\"].plot.hist()\n",
    "# Add title and axis names\n",
    "plt.title('Histogram')\n",
    "plt.xlabel('Time')\n",
    "plt.ylabel('Frequency of CO2')\n",
    "plt.show()\n"
   ]
  },
  {
   "cell_type": "code",
   "execution_count": null,
   "id": "518b82da",
   "metadata": {},
   "outputs": [],
   "source": []
  }
 ],
 "metadata": {
  "kernelspec": {
   "display_name": "Python 3 (ipykernel)",
   "language": "python",
   "name": "python3"
  },
  "language_info": {
   "codemirror_mode": {
    "name": "ipython",
    "version": 3
   },
   "file_extension": ".py",
   "mimetype": "text/x-python",
   "name": "python",
   "nbconvert_exporter": "python",
   "pygments_lexer": "ipython3",
   "version": "3.10.4"
  }
 },
 "nbformat": 4,
 "nbformat_minor": 5
}
